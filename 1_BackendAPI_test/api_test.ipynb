{
 "cells": [
  {
   "cell_type": "markdown",
   "metadata": {},
   "source": [
    "<h1>Test our API End point</h1>"
   ]
  },
  {
   "cell_type": "code",
   "execution_count": 24,
   "metadata": {},
   "outputs": [],
   "source": [
    "import requests\n",
    "import json"
   ]
  },
  {
   "cell_type": "code",
   "execution_count": 25,
   "metadata": {},
   "outputs": [
    {
     "name": "stdout",
     "output_type": "stream",
     "text": [
      "{'msg': 'Welcome on this beautiful API!', 'status': 200}\n"
     ]
    }
   ],
   "source": [
    "url = \"http://127.0.0.1:5000/\"\n",
    "\n",
    "response = requests.get(url)  \n",
    "\n",
    "if response.status_code == 200:\n",
    "    result = response.json()\n",
    "    print(result)\n",
    "else:\n",
    "    print(f\"Error: {response.status_code}\")\n"
   ]
  },
  {
   "cell_type": "markdown",
   "metadata": {},
   "source": [
    "<p>1. Case we have a model</p> "
   ]
  },
  {
   "cell_type": "code",
   "execution_count": 53,
   "metadata": {},
   "outputs": [
    {
     "name": "stdout",
     "output_type": "stream",
     "text": [
      "40.977673661653625\n"
     ]
    }
   ],
   "source": [
    "url = \"http://127.0.0.1:5000/api/v1/estimate\"\n",
    "input = {\"transaction_date\":\"2013.9123\",\"house_age\":\"17\",\"dist_to_nearest_mrt_station\":\"837.7233\",\"number_of_convenience_stores\":\"10\",\"latitude\":\"24.96334\",\"longitude\":\"121.54767\"}\n",
    "\n",
    "\n",
    "\n",
    "response = requests.post(url, json=input)  \n",
    "\n",
    "if response.status_code == 200:\n",
    "    result = response.json()\n",
    "    print(eval(result[0][\"prediction\"])[0])\n",
    "else:\n",
    "    print(f\"Error: {response.status_code}\")"
   ]
  },
  {
   "cell_type": "code",
   "execution_count": 15,
   "metadata": {},
   "outputs": [],
   "source": [
    "input2 = {\"2013.9123\",\"17\",\"837.7233\",\"10\",\"24.96334\",\"121.54767\"}\n"
   ]
  },
  {
   "cell_type": "code",
   "execution_count": 20,
   "metadata": {},
   "outputs": [
    {
     "data": {
      "text/plain": [
       "'{\"transaction_date\": \"2013.9123\", \"house_age\": \"17\", \"dist_to_nearest_mrt_station\": \"837.7233\", \"number_of_convenience_stores\": \"10\", \"latitude\": \"24.96334\", \"longitude\": \"121.54767\"}'"
      ]
     },
     "execution_count": 20,
     "metadata": {},
     "output_type": "execute_result"
    }
   ],
   "source": [
    "input_json"
   ]
  },
  {
   "cell_type": "code",
   "execution_count": null,
   "metadata": {},
   "outputs": [],
   "source": []
  }
 ],
 "metadata": {
  "kernelspec": {
   "display_name": "automl-env",
   "language": "python",
   "name": "python3"
  },
  "language_info": {
   "codemirror_mode": {
    "name": "ipython",
    "version": 3
   },
   "file_extension": ".py",
   "mimetype": "text/x-python",
   "name": "python",
   "nbconvert_exporter": "python",
   "pygments_lexer": "ipython3",
   "version": "3.11.5"
  },
  "orig_nbformat": 4
 },
 "nbformat": 4,
 "nbformat_minor": 2
}
